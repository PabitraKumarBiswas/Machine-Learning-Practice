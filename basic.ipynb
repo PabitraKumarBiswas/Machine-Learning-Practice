{
 "cells": [
  {
   "cell_type": "markdown",
   "id": "b00184d0",
   "metadata": {},
   "source": [
    "basic practice of Machine Learning"
   ]
  }
 ],
 "metadata": {
  "language_info": {
   "name": "python"
  }
 },
 "nbformat": 4,
 "nbformat_minor": 5
}
